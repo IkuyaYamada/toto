{
 "cells": [
  {
   "cell_type": "code",
   "execution_count": null,
   "metadata": {},
   "outputs": [],
   "source": [
    "#URLにアクセスする\n",
    "from urllib.request import urlopen\n",
    "\n",
    "for line in urlopen ('http://www.so-net.ne.jp/antlers/'):\n",
    "    line = line.decode('utf-8')\n",
    "    #日本語を復活させる\n",
    "    print (line)   \n"
   ]
  },
  {
   "cell_type": "code",
   "execution_count": null,
   "metadata": {},
   "outputs": [],
   "source": [
    "#BeautifulSoup版\n",
    "from urllib.request import urlopen\n",
    "from bs4 import BeautifulSoup\n",
    "\n",
    "url = 'http://www.so-net.ne.jp/antlers/'\n",
    "html = urlopen('http://www.so-net.ne.jp/antlers/')\n",
    "soup = BeautifulSoup(html, \"html.parser\")\n",
    "title_tag = soup.title\n",
    "title = title_tag.string\n",
    "print (title)"
   ]
  },
  {
   "cell_type": "code",
   "execution_count": null,
   "metadata": {},
   "outputs": [],
   "source": [
    "#BeautifulSoup版\n",
    "from urllib.request import urlopen\n",
    "from bs4 import BeautifulSoup\n",
    "\n",
    "#url = 'https://soccer.yahoo.co.jp/jleague/league/j1'\n",
    "html = urlopen('https://soccer.yahoo.co.jp/jleague/league/j1')\n",
    "soup = BeautifulSoup(html, \"html.parser\")\n",
    "title_tag = soup.title\n",
    "title = title_tag.string\n",
    "print (title)\n",
    "gettag = soup.find_all(\"a\" )\n",
    "getstr = soup.strings\n",
    "print(getstr)"
   ]
  },
  {
   "cell_type": "code",
   "execution_count": null,
   "metadata": {},
   "outputs": [],
   "source": [
    "#回数を数える\n",
    "import requests\n",
    "res = requests.get('http://www.so-net.ne.jp/antlers/')\n",
    "res = res.text\n",
    "print (type(res))\n",
    "print(res.count('鹿島アントラーズ'))\n",
    "#print (res)\n",
    "#print(res.text)"
   ]
  },
  {
   "cell_type": "code",
   "execution_count": 4,
   "metadata": {},
   "outputs": [
    {
     "data": {
      "text/plain": [
       "20"
      ]
     },
     "execution_count": 4,
     "metadata": {},
     "output_type": "execute_result"
    }
   ],
   "source": [
    "#csvの作成\n",
    "import csv\n",
    "write_fp = csv.writer(open(\"/Users/yamadaikuya/pythonista/toto/toto.csv\",\"w\"))\n",
    "#毎回新しいものを作成\n",
    "list1 = [\"match week\",\"results\"]\n",
    "write_fp.writerow(list1)"
   ]
  },
  {
   "cell_type": "code",
   "execution_count": null,
   "metadata": {},
   "outputs": [],
   "source": []
  }
 ],
 "metadata": {
  "kernelspec": {
   "display_name": "Python 3",
   "language": "python",
   "name": "python3"
  },
  "language_info": {
   "codemirror_mode": {
    "name": "ipython",
    "version": 3
   },
   "file_extension": ".py",
   "mimetype": "text/x-python",
   "name": "python",
   "nbconvert_exporter": "python",
   "pygments_lexer": "ipython3",
   "version": "3.6.5"
  }
 },
 "nbformat": 4,
 "nbformat_minor": 2
}
