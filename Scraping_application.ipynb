{
 "cells": [
  {
   "cell_type": "code",
   "execution_count": 14,
   "metadata": {},
   "outputs": [],
   "source": [
    "import pandas as pd\n",
    "from tqdm import tqdm_notebook as tqdm"
   ]
  },
  {
   "cell_type": "code",
   "execution_count": 2,
   "metadata": {},
   "outputs": [],
   "source": [
    "#yahoo sports Antlers\n",
    "from urllib.request import urlopen\n",
    "from bs4 import BeautifulSoup\n",
    "#url = 'https://soccer.yahoo.co.jp/jleague/teams/schedule/120'\n",
    "html = urlopen('https://soccer.yahoo.co.jp/jleague/teams/schedule/120')\n",
    "soup = BeautifulSoup(html, \"html.parser\")\n",
    "title_tag = soup.title\n",
    "title = title_tag.string\n",
    "#print (title)\n",
    "#print(soup)"
   ]
  },
  {
   "cell_type": "code",
   "execution_count": 3,
   "metadata": {},
   "outputs": [
    {
     "data": {
      "text/plain": [
       "['1-1', '1-2', '0-0', '1-0', '0-2', '0-1', '1-1', '0-1', '0-0', '2-2']"
      ]
     },
     "execution_count": 3,
     "metadata": {},
     "output_type": "execute_result"
    }
   ],
   "source": [
    "#スコアのURL\n",
    "import re \n",
    "score = soup.find_all(href = re.compile(\"^/jleague/game/score/\"))\n",
    "score_list = []\n",
    "for v in score:\n",
    "    score_list.append(v.text)\n",
    "\n",
    "#文字化け？を修正\n",
    "#一旦文字列にする。\n",
    "score_list_str = \",\".join(score_list).replace(\"\\xa0\",\"\")\n",
    "score_list = score_list_str.split(\",\")\n",
    "#確認\n",
    "score_list[0:10]"
   ]
  },
  {
   "cell_type": "code",
   "execution_count": 4,
   "metadata": {},
   "outputs": [
    {
     "name": "stdout",
     "output_type": "stream",
     "text": [
      "<class 'bs4.element.ResultSet'>\n"
     ]
    }
   ],
   "source": [
    "#結果を格納しているタグを発見してテキストにする。\n",
    "results = soup.find_all(class_=\"textC\")\n",
    "print(type(results))\n",
    "#for v in results:\n",
    "    #print(type(v))\n",
    "    #print(v.text)"
   ]
  },
  {
   "cell_type": "code",
   "execution_count": 5,
   "metadata": {},
   "outputs": [
    {
     "name": "stdout",
     "output_type": "stream",
     "text": [
      "['△', '○', 'J1 第1節', '△', 'J1 第2節', '○', '○', 'J1 第3節', '●', '△', 'J1 第4節', '○', 'J1 第5節', '△', '△', 'J1 第6節', '●', 'J1 第7節', '●', 'J1 第8節', '○', '●', 'J1 第9節', '●', 'J1 第10節', '△', 'J1 第11節', '●', 'J1 第12節', '○', 'J1 第13節', '○', '○', '●', 'J1 第15節', '●', '○', '○', 'J1 第16節', '△', 'J1 第17節', '○', 'J1 第14節', '○', 'J1 第18節', '△', 'J1 第19節', '●', 'J1 第20節', '○', 'J1 第21節', '●', 'J1 第22節', '○', 'J1 第23節', '○', 'J1 第24節', '△', '○', 'J1 第25節', '●', '△', '○', 'J1 第26節', '○', '○', 'J1 第27節', '○', '○', 'J1 第28節', '○', '○', 'J1 第29節', '△', '●', '△', 'J1 第30節', '●', '△', 'J1 第31節', '○', '○', 'J1 第32節', '○', '△', '○', 'J1 第33節', '○', 'J1 第34節']\n"
     ]
    }
   ],
   "source": [
    "#勝敗だけ抽出。\n",
    "results_list = []\n",
    "for v in results:\n",
    "    if (v.text == \"△\" or v.text == \"●\" or  v.text == \"○\" ):\n",
    "        results_list.append(v.text)\n",
    "    elif (\"J1\" in v.text):\n",
    "        results_list.append(v.text)\n",
    "    else:\n",
    "        pass\n",
    "\n",
    "print(results_list)"
   ]
  },
  {
   "cell_type": "code",
   "execution_count": 6,
   "metadata": {},
   "outputs": [],
   "source": [
    "#リストの勝敗を数値に変換。\n",
    "results_list = [\"2\" if \"△\" in s  else s for s in results_list]\n",
    "results_list = [\"1\" if \"○\" in s  else s for s in results_list]\n",
    "results_list = [\"0\" if \"●\" in s  else s for s in results_list]"
   ]
  },
  {
   "cell_type": "code",
   "execution_count": 7,
   "metadata": {},
   "outputs": [],
   "source": [
    "#結果だけ。\n",
    "pure_results = [i for i in results_list if  not \"J1\" in i]"
   ]
  },
  {
   "cell_type": "code",
   "execution_count": 15,
   "metadata": {},
   "outputs": [
    {
     "data": {
      "application/vnd.jupyter.widget-view+json": {
       "model_id": "5438527e1c4b48b188b35d5c8688740e",
       "version_major": 2,
       "version_minor": 0
      },
      "text/plain": [
       "HBox(children=(IntProgress(value=0, max=55), HTML(value='')))"
      ]
     },
     "metadata": {},
     "output_type": "display_data"
    },
    {
     "name": "stdout",
     "output_type": "stream",
     "text": [
      "\n"
     ]
    }
   ],
   "source": [
    "#info of Home/Away\n",
    "home_away_url = []\n",
    "home_away_list = []\n",
    "for a in score:\n",
    "        home_away_url.append(a.get(\"href\"))\n",
    "for i in tqdm(home_away_url):\n",
    "    home_away_html = urlopen(\"https://soccer.yahoo.co.jp/\" + i )\n",
    "    home_away_soup = BeautifulSoup(home_away_html, \"html.parser\")\n",
    "    if str(home_away_soup.title.contents[0]).split()[-7] == \"鹿島アントラーズ\":\n",
    "        home_away_list.append(1)\n",
    "    else:\n",
    "        home_away_list.append(0) "
   ]
  },
  {
   "cell_type": "code",
   "execution_count": 34,
   "metadata": {},
   "outputs": [
    {
     "data": {
      "text/plain": [
       "'ホーム最終戦を白星で飾りたい仙台だったが、アジア王者の鹿島に試合巧者ぶりを見せつけられる結果となった。序盤はバランスよく戦って五分五分の展開に持ち込むが、セットプレーの流れから先制点を献上し、ビハインドで折り返す。後半に入って反撃を試みるが、球際で強さを発揮する鹿島の守備陣に封じ込められてしまう。逆に、鈴木やセルジーニョを軸とする縦に鋭い攻撃から立て続けにゴールを許し、点差は3点に拡大。中野やジャーメインなど、交代選手を中心に最後まで抵抗する姿勢を見せたが及ばず、悔しい完封負けとなった。'"
      ]
     },
     "execution_count": 34,
     "metadata": {},
     "output_type": "execute_result"
    }
   ],
   "source": [
    "#試合のレビューの獲得\n",
    "home_away_soup.find(\"p\",class_=\"\", text=re.compile(\"。\")).text"
   ]
  },
  {
   "cell_type": "code",
   "execution_count": 10,
   "metadata": {},
   "outputs": [
    {
     "data": {
      "text/html": [
       "<div>\n",
       "<style scoped>\n",
       "    .dataframe tbody tr th:only-of-type {\n",
       "        vertical-align: middle;\n",
       "    }\n",
       "\n",
       "    .dataframe tbody tr th {\n",
       "        vertical-align: top;\n",
       "    }\n",
       "\n",
       "    .dataframe thead th {\n",
       "        text-align: right;\n",
       "    }\n",
       "</style>\n",
       "<table border=\"1\" class=\"dataframe\">\n",
       "  <thead>\n",
       "    <tr style=\"text-align: right;\">\n",
       "      <th></th>\n",
       "      <th>results</th>\n",
       "      <th>score</th>\n",
       "      <th>home</th>\n",
       "    </tr>\n",
       "  </thead>\n",
       "  <tbody>\n",
       "    <tr>\n",
       "      <th>0</th>\n",
       "      <td>2</td>\n",
       "      <td>1-1</td>\n",
       "      <td>1</td>\n",
       "    </tr>\n",
       "    <tr>\n",
       "      <th>1</th>\n",
       "      <td>1</td>\n",
       "      <td>1-2</td>\n",
       "      <td>0</td>\n",
       "    </tr>\n",
       "    <tr>\n",
       "      <th>2</th>\n",
       "      <td>2</td>\n",
       "      <td>0-0</td>\n",
       "      <td>0</td>\n",
       "    </tr>\n",
       "    <tr>\n",
       "      <th>3</th>\n",
       "      <td>1</td>\n",
       "      <td>1-0</td>\n",
       "      <td>1</td>\n",
       "    </tr>\n",
       "    <tr>\n",
       "      <th>4</th>\n",
       "      <td>1</td>\n",
       "      <td>0-2</td>\n",
       "      <td>0</td>\n",
       "    </tr>\n",
       "  </tbody>\n",
       "</table>\n",
       "</div>"
      ],
      "text/plain": [
       "  results score  home\n",
       "0       2   1-1     1\n",
       "1       1   1-2     0\n",
       "2       2   0-0     0\n",
       "3       1   1-0     1\n",
       "4       1   0-2     0"
      ]
     },
     "execution_count": 10,
     "metadata": {},
     "output_type": "execute_result"
    }
   ],
   "source": [
    "#リストの結合\n",
    "df = pd.DataFrame({\"results\" : pure_results,\n",
    "                                   \"score\" : score_list,\n",
    "                                  \"home\" : home_away_list})\n",
    "df.head()"
   ]
  },
  {
   "cell_type": "code",
   "execution_count": 11,
   "metadata": {},
   "outputs": [],
   "source": [
    "#csvにして出力\n",
    "df.to_csv(\"/Users/yamadaikuya/pythonista/toto/results/antlers.csv\",sep=\",\")"
   ]
  },
  {
   "cell_type": "code",
   "execution_count": null,
   "metadata": {},
   "outputs": [],
   "source": []
  }
 ],
 "metadata": {
  "kernelspec": {
   "display_name": "Python 3",
   "language": "python",
   "name": "python3"
  },
  "language_info": {
   "codemirror_mode": {
    "name": "ipython",
    "version": 3
   },
   "file_extension": ".py",
   "mimetype": "text/x-python",
   "name": "python",
   "nbconvert_exporter": "python",
   "pygments_lexer": "ipython3",
   "version": "3.6.5"
  }
 },
 "nbformat": 4,
 "nbformat_minor": 2
}
