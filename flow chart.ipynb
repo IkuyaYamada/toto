{
 "cells": [
  {
   "cell_type": "code",
   "execution_count": 39,
   "metadata": {},
   "outputs": [],
   "source": [
    "import pandas as pd\n",
    "from urllib.request import urlopen\n",
    "from bs4 import BeautifulSoup\n",
    "import re "
   ]
  },
  {
   "cell_type": "code",
   "execution_count": 40,
   "metadata": {},
   "outputs": [
    {
     "data": {
      "text/plain": [
       "'\"\"\\ntotoでの試合に関してのモデル。\\n・(Home)vs(Away)\\n・様々なXを用いてHomeが勝つ確率P(H=0or1 | X)を求める。\\n・最終的な出力はR=0(Home lost),1(Draw),2(Home won)\\n・0<P<1/3のとき R=0\\n・1/3<P<2/3のとき R=1\\n・2/3<P<1のとき R=2  を吐く。\\n'"
      ]
     },
     "execution_count": 40,
     "metadata": {},
     "output_type": "execute_result"
    }
   ],
   "source": [
    "\"\"\"\"\"\n",
    "totoでの試合に関してのモデル。\n",
    "・(Home)vs(Away)\n",
    "・様々なXを用いてHomeが勝つ確率P(H=0or1 | X)を求める。\n",
    "・最終的な出力はR=0(Home lost),1(Draw),2(Home won)\n",
    "・0<P<1/3のとき R=0\n",
    "・1/3<P<2/3のとき R=1\n",
    "・2/3<P<1のとき R=2  を吐く。\n",
    "\"\"\"\"\""
   ]
  },
  {
   "cell_type": "code",
   "execution_count": null,
   "metadata": {},
   "outputs": [],
   "source": [
    "\"\"\"\"\"\n",
    "学習モデル。\n",
    "様々なX（とりあえず3つくらい？）\n",
    "①Hの直近5試合の結果。(とりあえずリーグ戦だけにしておく。純粋に直近にしたものと比べてもよさそう)\n",
    "→平均にする？　今後時系列的な考えにしても良さそう。\n",
    "②天気\n",
    "③Home/Away\n",
    "\"\"\"\"\""
   ]
  }
 ],
 "metadata": {
  "kernelspec": {
   "display_name": "Python 3",
   "language": "python",
   "name": "python3"
  },
  "language_info": {
   "codemirror_mode": {
    "name": "ipython",
    "version": 3
   },
   "file_extension": ".py",
   "mimetype": "text/x-python",
   "name": "python",
   "nbconvert_exporter": "python",
   "pygments_lexer": "ipython3",
   "version": "3.6.5"
  }
 },
 "nbformat": 4,
 "nbformat_minor": 2
}
