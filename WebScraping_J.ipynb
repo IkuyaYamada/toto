{
 "cells": [
  {
   "cell_type": "code",
   "execution_count": 1,
   "metadata": {},
   "outputs": [],
   "source": [
    "import pandas as pd\n",
    "from urllib.request import urlopen\n",
    "from bs4 import BeautifulSoup\n",
    "import re \n",
    "from tqdm import tqdm_notebook as tqdm"
   ]
  },
  {
   "cell_type": "code",
   "execution_count": 28,
   "metadata": {},
   "outputs": [],
   "source": [
    "#データフレームの扱い。カラムを増やす。\n",
    "pd.options.display.notebook_repr_html = True\n",
    "pd.options.display.max_colwidth = 1000 #最大文字数の変更\n",
    "pd.options.display.max_rows = 1000 #最大行数の変更"
   ]
  },
  {
   "cell_type": "code",
   "execution_count": 16,
   "metadata": {},
   "outputs": [
    {
     "data": {
      "application/vnd.jupyter.widget-view+json": {
       "model_id": "25ff8103b864405dbe6612b935a77fe4",
       "version_major": 2,
       "version_minor": 0
      },
      "text/plain": [
       "HBox(children=(IntProgress(value=0, max=18), HTML(value='')))"
      ]
     },
     "metadata": {},
     "output_type": "display_data"
    },
    {
     "name": "stdout",
     "output_type": "stream",
     "text": [
      "\n",
      "北海道コンサドーレ札幌 ベガルタ仙台 鹿島アントラーズ 浦和レッズ FC東京 川崎フロンターレ 横浜F・マリノス 湘南ベルマーレ 松本山雅FC 清水エスパルス ジュビロ磐田 名古屋グランパス ガンバ大阪 セレッソ大阪 ヴィッセル神戸 サンフレッチェ広島 サガン鳥栖 大分トリニータ\n"
     ]
    }
   ],
   "source": [
    "#J1各チームの日程・結果にアクセスするためのurlリスト。\n",
    "html_all = urlopen(\"https://soccer.yahoo.co.jp/jleague/teams/j1\")\n",
    "soup_all = BeautifulSoup(html_all, \"html.parser\")\n",
    "team_url = soup_all.find_all(href = re.compile(\"^/jleague/teams/schedule\"))\n",
    "team_url_list = []\n",
    "team_name_list= []\n",
    "for a in tqdm(team_url):\n",
    "    team_url_list.append(\"https://soccer.yahoo.co.jp\" + a.get(\"href\"))\n",
    "    html = urlopen(\"https://soccer.yahoo.co.jp\" + a.get(\"href\"))\n",
    "    soup = BeautifulSoup(html, \"html.parser\")\n",
    "    team_name = str(soup.find_all(class_ = \"name\"))\n",
    "    team_name = re.search(pattern, team_name)\n",
    "    team_name_list.append(team_name.group()[1:-1])\n",
    "print(*team_name_list)"
   ]
  },
  {
   "cell_type": "code",
   "execution_count": 6,
   "metadata": {},
   "outputs": [],
   "source": [
    "def score(soup):\n",
    "    #各試合のスコアのTag\n",
    "    score_tag = soup.find_all(href =  re.compile(\"^/jleague/game/score/\"))\n",
    "    #Tagからスコアをget\n",
    "    pattern = \"\\d-\\d\"\n",
    "    score_list = str(score_tag).replace(\"\\xa0\",\"\")\n",
    "    score_list = re.findall(pattern, score_list)\n",
    "    return(score_tag, score_list)"
   ]
  },
  {
   "cell_type": "code",
   "execution_count": 17,
   "metadata": {},
   "outputs": [],
   "source": [
    "#結果を格納しているタグを発見してテキストにする。\n",
    "def results(soup):\n",
    "    results = soup.find_all(class_=\"textC\")\n",
    "    #勝敗だけ抽出。\n",
    "    results_list = []\n",
    "    for v in results:\n",
    "        if (v.text == \"△\" or v.text == \"●\" or v.text == \"○\" ):\n",
    "            results_list.append(v.text)\n",
    "    #リストの勝敗を数値に変換。\n",
    "    results_list = [\"2\" if \"△\" in s  else s for s in results_list]\n",
    "    results_list = [\"1\" if \"○\" in s  else s for s in results_list]\n",
    "    results_list = [\"0\" if \"●\" in s  else s for s in results_list]\n",
    "    return(results_list)"
   ]
  },
  {
   "cell_type": "code",
   "execution_count": 18,
   "metadata": {},
   "outputs": [],
   "source": [
    "def home_review(score_tag, teamname):\n",
    "    #Home/Away\n",
    "    home_away_url = []\n",
    "    home_away_list = []\n",
    "    #review\n",
    "    match_review = []\n",
    "    #試合詳細のURLをリスト化\n",
    "    for a in score_tag:\n",
    "        home_away_url.append(\"https://soccer.yahoo.co.jp\"  + a.get(\"href\"))\n",
    "    #リスト化されたURLからHOME/AWAY情報を抽出\n",
    "    for i in tqdm(home_away_url, teamname):\n",
    "        home_away_html = urlopen(i)\n",
    "        home_away_soup = BeautifulSoup(home_away_html, \"html.parser\")\n",
    "        if str(home_away_soup.title.contents[0]).split()[-7] == teamname :\n",
    "            home_away_list.append(1)\n",
    "        else:\n",
    "            home_away_list.append(0)\n",
    "        review_test = home_away_soup.find(\"p\",class_=\"\", text=re.compile(\"。\")).text\n",
    "        pattern = re.compile(\"掲載\")\n",
    "        matchObj = pattern.search(review_test)\n",
    "    #掲載　という文字が入っていたらレビューではないので空にする。\n",
    "        if matchObj:\n",
    "            match_review.append(\"Nah\")\n",
    "        else:\n",
    "            match_review.append(review_test)\n",
    "    return(home_away_url, home_away_list, match_review)"
   ]
  },
  {
   "cell_type": "code",
   "execution_count": 51,
   "metadata": {},
   "outputs": [],
   "source": [
    "###xに入るのは数字\n",
    "###team x の情報を集める関数。\n",
    "def gather_information(x):\n",
    "    #各チームにアクセス。\n",
    "    html = urlopen(team_url_list[x])\n",
    "    soup = BeautifulSoup(html, \"html.parser\")\n",
    "    #チーム名\n",
    "    teamname = team_name_list[x]   \n",
    "    df_score = score(soup)\n",
    "    score_tag = df_score[0]\n",
    "    df_results = results(soup)\n",
    "    df_home_review = home_review(score_tag, teamname)\n",
    "    #DataFrame→CSV にして出力\n",
    "    df = pd.DataFrame({\"results\" : df_results,\n",
    "                                     \"home\" : df_home_review[1],\n",
    "                                     \"score\" : df_score[1],\n",
    "                                       \"match review\" : df_home_review[2]\n",
    "                                  })\n",
    "    df.to_csv(\"/Users/yamadaikuya/gitrepos/toto/trial/\"+str(x)+\".csv\",sep=\",\")"
   ]
  },
  {
   "cell_type": "code",
   "execution_count": 52,
   "metadata": {},
   "outputs": [
    {
     "data": {
      "application/vnd.jupyter.widget-view+json": {
       "model_id": "1397db0f85654cc5a197d1cf2bb5e680",
       "version_major": 2,
       "version_minor": 0
      },
      "text/plain": [
       "HBox(children=(IntProgress(value=0, description='北海道コンサドーレ札幌', max=17, style=ProgressStyle(description_width='…"
      ]
     },
     "metadata": {},
     "output_type": "display_data"
    },
    {
     "name": "stdout",
     "output_type": "stream",
     "text": [
      "\n"
     ]
    }
   ],
   "source": [
    "gather_information(0)"
   ]
  },
  {
   "cell_type": "code",
   "execution_count": 53,
   "metadata": {},
   "outputs": [],
   "source": [
    "#全てのチームに関して情報を集める。\n",
    "def gather_all_information():\n",
    "    for i in tqdm(range(len(team_url_list)),\"Overall Progress\"):\n",
    "        gather_information(i)"
   ]
  },
  {
   "cell_type": "code",
   "execution_count": 54,
   "metadata": {},
   "outputs": [
    {
     "data": {
      "application/vnd.jupyter.widget-view+json": {
       "model_id": "a475d08d7f1f43139017fc8ef8fd0c43",
       "version_major": 2,
       "version_minor": 0
      },
      "text/plain": [
       "HBox(children=(IntProgress(value=0, description='Overall Progress', max=18, style=ProgressStyle(description_wi…"
      ]
     },
     "metadata": {},
     "output_type": "display_data"
    },
    {
     "data": {
      "application/vnd.jupyter.widget-view+json": {
       "model_id": "baff1c5c4ef1486e8c813e7bae62d02a",
       "version_major": 2,
       "version_minor": 0
      },
      "text/plain": [
       "HBox(children=(IntProgress(value=0, description='北海道コンサドーレ札幌', max=17, style=ProgressStyle(description_width='…"
      ]
     },
     "metadata": {},
     "output_type": "display_data"
    },
    {
     "data": {
      "application/vnd.jupyter.widget-view+json": {
       "model_id": "5ed1a9397e394693a07ef90f1d769577",
       "version_major": 2,
       "version_minor": 0
      },
      "text/plain": [
       "HBox(children=(IntProgress(value=0, description='ベガルタ仙台', max=17, style=ProgressStyle(description_width='initi…"
      ]
     },
     "metadata": {},
     "output_type": "display_data"
    },
    {
     "data": {
      "application/vnd.jupyter.widget-view+json": {
       "model_id": "d234255867394e8295ac5da2570320b8",
       "version_major": 2,
       "version_minor": 0
      },
      "text/plain": [
       "HBox(children=(IntProgress(value=0, description='鹿島アントラーズ', max=18, style=ProgressStyle(description_width='ini…"
      ]
     },
     "metadata": {},
     "output_type": "display_data"
    },
    {
     "data": {
      "application/vnd.jupyter.widget-view+json": {
       "model_id": "34518618298642889c721a27182e8e99",
       "version_major": 2,
       "version_minor": 0
      },
      "text/plain": [
       "HBox(children=(IntProgress(value=0, description='浦和レッズ', max=18, style=ProgressStyle(description_width='initia…"
      ]
     },
     "metadata": {},
     "output_type": "display_data"
    },
    {
     "data": {
      "application/vnd.jupyter.widget-view+json": {
       "model_id": "150ce04158ac4984ad5609e673287b95",
       "version_major": 2,
       "version_minor": 0
      },
      "text/plain": [
       "HBox(children=(IntProgress(value=0, description='FC東京', max=17, style=ProgressStyle(description_width='initial…"
      ]
     },
     "metadata": {},
     "output_type": "display_data"
    },
    {
     "data": {
      "application/vnd.jupyter.widget-view+json": {
       "model_id": "c81a041b75b04dd7ab019fbffcdde144",
       "version_major": 2,
       "version_minor": 0
      },
      "text/plain": [
       "HBox(children=(IntProgress(value=0, description='川崎フロンターレ', max=18, style=ProgressStyle(description_width='ini…"
      ]
     },
     "metadata": {},
     "output_type": "display_data"
    },
    {
     "data": {
      "application/vnd.jupyter.widget-view+json": {
       "model_id": "502518da37ea4f73b604ad7465208e9b",
       "version_major": 2,
       "version_minor": 0
      },
      "text/plain": [
       "HBox(children=(IntProgress(value=0, description='横浜F・マリノス', max=17, style=ProgressStyle(description_width='ini…"
      ]
     },
     "metadata": {},
     "output_type": "display_data"
    },
    {
     "data": {
      "application/vnd.jupyter.widget-view+json": {
       "model_id": "467b48c92b2b4d81bee11c58d31e70e2",
       "version_major": 2,
       "version_minor": 0
      },
      "text/plain": [
       "HBox(children=(IntProgress(value=0, description='湘南ベルマーレ', max=17, style=ProgressStyle(description_width='init…"
      ]
     },
     "metadata": {},
     "output_type": "display_data"
    },
    {
     "data": {
      "application/vnd.jupyter.widget-view+json": {
       "model_id": "9280a527245f49328e1dbcfe26bbc923",
       "version_major": 2,
       "version_minor": 0
      },
      "text/plain": [
       "HBox(children=(IntProgress(value=0, description='松本山雅FC', max=17, style=ProgressStyle(description_width='initi…"
      ]
     },
     "metadata": {},
     "output_type": "display_data"
    },
    {
     "data": {
      "application/vnd.jupyter.widget-view+json": {
       "model_id": "261ec767f1e34d02bd288a879c66670e",
       "version_major": 2,
       "version_minor": 0
      },
      "text/plain": [
       "HBox(children=(IntProgress(value=0, description='清水エスパルス', max=17, style=ProgressStyle(description_width='init…"
      ]
     },
     "metadata": {},
     "output_type": "display_data"
    },
    {
     "data": {
      "application/vnd.jupyter.widget-view+json": {
       "model_id": "56dffebec9904100b74eac79a5a03eca",
       "version_major": 2,
       "version_minor": 0
      },
      "text/plain": [
       "HBox(children=(IntProgress(value=0, description='ジュビロ磐田', max=17, style=ProgressStyle(description_width='initi…"
      ]
     },
     "metadata": {},
     "output_type": "display_data"
    },
    {
     "data": {
      "application/vnd.jupyter.widget-view+json": {
       "model_id": "90166aae5d894a26bc15102c4dca6e8c",
       "version_major": 2,
       "version_minor": 0
      },
      "text/plain": [
       "HBox(children=(IntProgress(value=0, description='名古屋グランパス', max=17, style=ProgressStyle(description_width='ini…"
      ]
     },
     "metadata": {},
     "output_type": "display_data"
    },
    {
     "data": {
      "application/vnd.jupyter.widget-view+json": {
       "model_id": "15a62a96ea43424fbf8780846c344c86",
       "version_major": 2,
       "version_minor": 0
      },
      "text/plain": [
       "HBox(children=(IntProgress(value=0, description='ガンバ大阪', max=17, style=ProgressStyle(description_width='initia…"
      ]
     },
     "metadata": {},
     "output_type": "display_data"
    },
    {
     "data": {
      "application/vnd.jupyter.widget-view+json": {
       "model_id": "08e3bdcc80384897ada68e62ec03f62e",
       "version_major": 2,
       "version_minor": 0
      },
      "text/plain": [
       "HBox(children=(IntProgress(value=0, description='セレッソ大阪', max=17, style=ProgressStyle(description_width='initi…"
      ]
     },
     "metadata": {},
     "output_type": "display_data"
    },
    {
     "data": {
      "application/vnd.jupyter.widget-view+json": {
       "model_id": "d75944464ea44c3d94508df98c2fe2f8",
       "version_major": 2,
       "version_minor": 0
      },
      "text/plain": [
       "HBox(children=(IntProgress(value=0, description='ヴィッセル神戸', max=17, style=ProgressStyle(description_width='init…"
      ]
     },
     "metadata": {},
     "output_type": "display_data"
    },
    {
     "data": {
      "application/vnd.jupyter.widget-view+json": {
       "model_id": "e0e4be21a0ea4819a8e3e21245a0d86c",
       "version_major": 2,
       "version_minor": 0
      },
      "text/plain": [
       "HBox(children=(IntProgress(value=0, description='サンフレッチェ広島', max=18, style=ProgressStyle(description_width='in…"
      ]
     },
     "metadata": {},
     "output_type": "display_data"
    },
    {
     "data": {
      "application/vnd.jupyter.widget-view+json": {
       "model_id": "cb7268f619e14030a9903bcca57ba550",
       "version_major": 2,
       "version_minor": 0
      },
      "text/plain": [
       "HBox(children=(IntProgress(value=0, description='サガン鳥栖', max=17, style=ProgressStyle(description_width='initia…"
      ]
     },
     "metadata": {},
     "output_type": "display_data"
    },
    {
     "data": {
      "application/vnd.jupyter.widget-view+json": {
       "model_id": "f68a0d8da99845d78e926296b47b7349",
       "version_major": 2,
       "version_minor": 0
      },
      "text/plain": [
       "HBox(children=(IntProgress(value=0, description='大分トリニータ', max=17, style=ProgressStyle(description_width='init…"
      ]
     },
     "metadata": {},
     "output_type": "display_data"
    },
    {
     "name": "stdout",
     "output_type": "stream",
     "text": [
      "\n"
     ]
    }
   ],
   "source": [
    "gather_all_information()"
   ]
  },
  {
   "cell_type": "code",
   "execution_count": 61,
   "metadata": {},
   "outputs": [],
   "source": [
    "#csvからdfに戻す。\n",
    "def show_dataframe(i):\n",
    "    df_return = pd.read_csv(\"/Users/gitrepos/toto/trial/\"+str(i)+\".csv\", \n",
    "                      index_col=[0])\n",
    "    df_return_latest = df_return[-1:] #最新のが見たいときはこっち\n",
    "    return(display(df_return))"
   ]
  },
  {
   "cell_type": "code",
   "execution_count": 64,
   "metadata": {},
   "outputs": [
    {
     "name": "stdout",
     "output_type": "stream",
     "text": [
      "北海道コンサドーレ札幌\n"
     ]
    },
    {
     "data": {
      "text/html": [
       "<div>\n",
       "<style scoped>\n",
       "    .dataframe tbody tr th:only-of-type {\n",
       "        vertical-align: middle;\n",
       "    }\n",
       "\n",
       "    .dataframe tbody tr th {\n",
       "        vertical-align: top;\n",
       "    }\n",
       "\n",
       "    .dataframe thead th {\n",
       "        text-align: right;\n",
       "    }\n",
       "</style>\n",
       "<table border=\"1\" class=\"dataframe\">\n",
       "  <thead>\n",
       "    <tr style=\"text-align: right;\">\n",
       "      <th></th>\n",
       "      <th>results</th>\n",
       "      <th>home</th>\n",
       "      <th>score</th>\n",
       "      <th>match review</th>\n",
       "    </tr>\n",
       "  </thead>\n",
       "  <tbody>\n",
       "    <tr>\n",
       "      <th>0</th>\n",
       "      <td>0</td>\n",
       "      <td>0</td>\n",
       "      <td>2-0</td>\n",
       "      <td>昨季飛躍を果たした両チームの対戦はホームの湘南に軍配が上がった。ボールを支配する札幌に押し込まれる展開が続いたが、それでも運動量で相手を圧倒する「湘南スタイル」は今季も健在。時間帯が深まるにつれて徐々に流れを引き寄せると、「復帰戦」の武富が気迫のこもった2得点を挙げる。BMWスを歓喜の渦に巻き込み、3年連続の開幕戦勝利に大きく貢献した。対する札幌は攻撃陣がかみ合わず、無念の完封負け。前線ではチャナティップの単騎突破に頼るシーンが目立ち、Aロペスや鈴木ら新戦力の一刻も早いフィットが求められる。</td>\n",
       "    </tr>\n",
       "    <tr>\n",
       "      <th>1</th>\n",
       "      <td>1</td>\n",
       "      <td>0</td>\n",
       "      <td>0-2</td>\n",
       "      <td>開始早々に出はなをくじかれた浦和。これで相手に勢いと自信を与えてしまった。ボールを持った際は札幌の素早いプレスに自由を奪われ、またチャナティップを中心とした華麗なパスワークで何度もゴールを脅かされる展開に。シュートミスや西川のセーブに救われて早い時間帯での大量失点は回避したものの、後半も大勢は変わらず。終盤は山中や途中出場のAナバウトの突破から波状攻撃を見せるも、攻撃のスイッチを入れるにはあまりにも遅すぎた。結果、なすすべもなく0－2で完敗し、かつての恩師に勝点3の手土産を渡してしまった。</td>\n",
       "    </tr>\n",
       "    <tr>\n",
       "      <th>2</th>\n",
       "      <td>2</td>\n",
       "      <td>0</td>\n",
       "      <td>1-1</td>\n",
       "      <td>Nah</td>\n",
       "    </tr>\n",
       "    <tr>\n",
       "      <th>3</th>\n",
       "      <td>1</td>\n",
       "      <td>1</td>\n",
       "      <td>5-2</td>\n",
       "      <td>前節にアウェイで今季初勝利を飾り、ホーム開幕戦を迎えた札幌。守備時には全員が自陣に戻ってボールを奪取し、攻撃ではAロペスを中心に左右にボールを展開。試合を優位に進め、1点リードで折り返す。後半は開始直後から前がかりになった清水に対し、今度はカウンター攻撃で応戦。これで勢いはさらに増し、素早い攻撃から何度もゴールへと迫る。終わってみればAロペスの連続追撃弾で大量5得点を挙げての白星を飾った。一方の清水は、開幕からの3戦で10失点を喫しており、守備の改善が求められる。</td>\n",
       "    </tr>\n",
       "    <tr>\n",
       "      <th>4</th>\n",
       "      <td>2</td>\n",
       "      <td>1</td>\n",
       "      <td>0-0</td>\n",
       "      <td>Nah</td>\n",
       "    </tr>\n",
       "    <tr>\n",
       "      <th>5</th>\n",
       "      <td>0</td>\n",
       "      <td>1</td>\n",
       "      <td>1-3</td>\n",
       "      <td>清水戦では、鈴木とAロペスの前線2人で5得点を奪った札幌だが、今節の相手は11試合連続勝ちなしと相性の悪い鹿島。積極的な攻撃を展開するが、「試合巧者な鹿島」に2点リードを許し、試合を折り返す。後半開始から徐々に攻撃のリズムを取り戻し、押し込む時間帯が続くも、レアンドロに3点目を奪われてしまう。後半40分にAロペスの2試合連続ゴールで1点を返すが、反撃もここまで。今回も苦汁をなめさせられる結果となった。</td>\n",
       "    </tr>\n",
       "    <tr>\n",
       "      <th>6</th>\n",
       "      <td>0</td>\n",
       "      <td>0</td>\n",
       "      <td>4-0</td>\n",
       "      <td>4節での敗戦から8連敗を喫した昨季との違いを見せることに成功した名古屋。速い出足で中盤を支配するほか、パスワークの際の味方との関わり方で相手を圧倒すると、決定機をことごとく沈めて前半だけで3点を奪って折り返す。後半に入っても集中を切らさずに1点を追加する。すると、守備面でも米本を中心に札幌のカウンターをつぶすなど、光るプレーを連発。最後まで統率されたラインで相手の攻撃を抑え、ほぼ完璧な試合運びで今季三度目の完封勝利を達成した。</td>\n",
       "    </tr>\n",
       "    <tr>\n",
       "      <th>7</th>\n",
       "      <td>0</td>\n",
       "      <td>1</td>\n",
       "      <td>1-2</td>\n",
       "      <td>前からの激しいプレスと多くの味方の攻撃参加でゴールを目指す札幌と、後方からつなぎつつ、有効なスペースを突いて攻め込む大分。両者のスタイルのぶつかり合いが終始続いた一戦となった。札幌は開始早々に先手を取られると、プレスの意識をさらに強化。だが、これで裏のスペースを空けると、次第に藤本らに突かれて2点目を献上する。大分としては狙い通りの、札幌としては勢いに水を差される1点となった。後半も試合の大勢はほぼ変わらず。ホームチームは90分にわたって攻撃に圧力を見せ続けただけに、悔しい敗戦となった。</td>\n",
       "    </tr>\n",
       "    <tr>\n",
       "      <th>8</th>\n",
       "      <td>1</td>\n",
       "      <td>1</td>\n",
       "      <td>4-1</td>\n",
       "      <td>Nah</td>\n",
       "    </tr>\n",
       "    <tr>\n",
       "      <th>9</th>\n",
       "      <td>1</td>\n",
       "      <td>0</td>\n",
       "      <td>0-1</td>\n",
       "      <td>両チームともに締まったプレーを見せ、緊張感のある固い内容の試合となる。ホームのC大阪は連係でペナルティエリアへの進入を試みる札幌の攻撃に耐え、仕掛ける際には前への意識が高い片山や松田を中心に右サイドからの打開を狙う。後半に入ってもなお、一進一退の攻防が続くが、セットプレーから進藤に今季初得点を決められ、苦しい展開になる。その後は収まりの良い都倉に縦パスを入れて攻撃を仕掛け続けるも、タイムアップ。復調のけはいを見せていただけに、痛い敗戦を喫してしまった。</td>\n",
       "    </tr>\n",
       "    <tr>\n",
       "      <th>10</th>\n",
       "      <td>1</td>\n",
       "      <td>1</td>\n",
       "      <td>3-0</td>\n",
       "      <td>札幌は横浜FMの特殊なビルドアップに対し、ミスを恐れない激しいプレスと縦に速いカウンター攻撃で対抗。これが奏功して前半のうちに3点を奪い、優位にゲームを進める。後半も流れはそのままに、AロペスとLフェルナンデスの力強い突破などで何度もゴールを襲う。守備面でも、前節に続いてクリーンシートを達成し、札幌ドにがい歌を響かせた。一方、横浜FMは相手の策にはまり、早い段階で複数失点。飯倉が再三のピンチを防いだものの、思うような形で攻められず。結果も内容も振るわない厳しい一戦となった。</td>\n",
       "    </tr>\n",
       "    <tr>\n",
       "      <th>11</th>\n",
       "      <td>1</td>\n",
       "      <td>0</td>\n",
       "      <td>3-6</td>\n",
       "      <td>Nah</td>\n",
       "    </tr>\n",
       "    <tr>\n",
       "      <th>12</th>\n",
       "      <td>1</td>\n",
       "      <td>0</td>\n",
       "      <td>1-2</td>\n",
       "      <td>開始早々に出はなをくじかれた磐田。その後は必死に守っても奪った後にすぐさま相手のチェックを受けて失うシーンが相次ぎ、打開策を見いだせないまま2点目を献上してしまう。しかし、ハーフタイムに2枚替えを行うと、後半はほぼ磐田の時間が続く。川又を起点にテンポよくパスが回り、ゴールに迫る場面が増加。アダイウトンが1点を返すと、終了間際には荒木や山田が決定機を作るなど、幾度も駆け付けた観客を沸かせた。それでも、1－2で終了し、3連敗。負傷から復帰した川又がケガで交代するなど、暗雲が立ち込める一戦となった。</td>\n",
       "    </tr>\n",
       "    <tr>\n",
       "      <th>13</th>\n",
       "      <td>1</td>\n",
       "      <td>1</td>\n",
       "      <td>2-1</td>\n",
       "      <td>ホームの大声援を受ける札幌は、序盤から両サイドを起点に攻勢を強めてシュートの意識を高く持つものの、相手の体を張ったディフェンスを前に得点を奪えず、試合を折り返す。後半17分にPKで失点を喫してしまうが、6分後に進藤の2試合連続でのゴールで同点に追い付く。勢いそのままの同30分には1トップに入った鈴木がネットを揺らし、逆転に成功する。アディショナルタイムにピンチを迎えるものの、GKのクソンユンのビッグプレーが飛び出してタイムアップの笛。見事に公式戦6連勝を達成した。</td>\n",
       "    </tr>\n",
       "    <tr>\n",
       "      <th>14</th>\n",
       "      <td>0</td>\n",
       "      <td>1</td>\n",
       "      <td>0-4</td>\n",
       "      <td>Nah</td>\n",
       "    </tr>\n",
       "    <tr>\n",
       "      <th>15</th>\n",
       "      <td>2</td>\n",
       "      <td>0</td>\n",
       "      <td>0-0</td>\n",
       "      <td>松本が立ち上がりから積極的な姿勢を見せ、優位にゲームを進める。カウンターを仕掛けた時に生まれる中盤のスペースを効果的に突いて幾度か決定機を作るも、決め切れない。すると、後半は札幌の細かいパスワークに手を焼く展開に。クロスやミドルシュートを浴びながらも、空中戦に強い飯田らがはね返し続ける。前田らがカウンターを仕掛けることで辛うじて相手に食らい付くも、フィニッシュの精度を欠いて無得点。クリーンシートで終えて連敗を2でストップしたが、決定力に課題を残す結果となった。</td>\n",
       "    </tr>\n",
       "    <tr>\n",
       "      <th>16</th>\n",
       "      <td>0</td>\n",
       "      <td>0</td>\n",
       "      <td>2-0</td>\n",
       "      <td>ホームのFC東京は、序盤に訪れた決定機を生かし切れずに、スコアレスで前半を終える。迎えた後半は、立ち上がりからギアを上げて相手ゴールに襲い掛かると、後半14分に小川のJ1初ゴールで先制に成功。10分後にも、久保建が自身2戦連続となる得点を決め、試合を優位に進める。守備では素早い攻守の切り替えで相手に自由を与えず、公式戦7戦連続のクリーンシートで試合を締めくくった。対する札幌は1トップの鈴木が抑え込まれ、攻撃の起点を作れず。最後まで相手守備陣を崩し切れずに6試合ぶりの黒星を喫した。</td>\n",
       "    </tr>\n",
       "  </tbody>\n",
       "</table>\n",
       "</div>"
      ],
      "text/plain": [
       "    results  home score  \\\n",
       "0         0     0   2-0   \n",
       "1         1     0   0-2   \n",
       "2         2     0   1-1   \n",
       "3         1     1   5-2   \n",
       "4         2     1   0-0   \n",
       "5         0     1   1-3   \n",
       "6         0     0   4-0   \n",
       "7         0     1   1-2   \n",
       "8         1     1   4-1   \n",
       "9         1     0   0-1   \n",
       "10        1     1   3-0   \n",
       "11        1     0   3-6   \n",
       "12        1     0   1-2   \n",
       "13        1     1   2-1   \n",
       "14        0     1   0-4   \n",
       "15        2     0   0-0   \n",
       "16        0     0   2-0   \n",
       "\n",
       "                                                                                                                                                                                                                                                 match review  \n",
       "0    昨季飛躍を果たした両チームの対戦はホームの湘南に軍配が上がった。ボールを支配する札幌に押し込まれる展開が続いたが、それでも運動量で相手を圧倒する「湘南スタイル」は今季も健在。時間帯が深まるにつれて徐々に流れを引き寄せると、「復帰戦」の武富が気迫のこもった2得点を挙げる。BMWスを歓喜の渦に巻き込み、3年連続の開幕戦勝利に大きく貢献した。対する札幌は攻撃陣がかみ合わず、無念の完封負け。前線ではチャナティップの単騎突破に頼るシーンが目立ち、Aロペスや鈴木ら新戦力の一刻も早いフィットが求められる。  \n",
       "1     開始早々に出はなをくじかれた浦和。これで相手に勢いと自信を与えてしまった。ボールを持った際は札幌の素早いプレスに自由を奪われ、またチャナティップを中心とした華麗なパスワークで何度もゴールを脅かされる展開に。シュートミスや西川のセーブに救われて早い時間帯での大量失点は回避したものの、後半も大勢は変わらず。終盤は山中や途中出場のAナバウトの突破から波状攻撃を見せるも、攻撃のスイッチを入れるにはあまりにも遅すぎた。結果、なすすべもなく0－2で完敗し、かつての恩師に勝点3の手土産を渡してしまった。  \n",
       "2                                                                                                                                                                                                                                                         Nah  \n",
       "3                  前節にアウェイで今季初勝利を飾り、ホーム開幕戦を迎えた札幌。守備時には全員が自陣に戻ってボールを奪取し、攻撃ではAロペスを中心に左右にボールを展開。試合を優位に進め、1点リードで折り返す。後半は開始直後から前がかりになった清水に対し、今度はカウンター攻撃で応戦。これで勢いはさらに増し、素早い攻撃から何度もゴールへと迫る。終わってみればAロペスの連続追撃弾で大量5得点を挙げての白星を飾った。一方の清水は、開幕からの3戦で10失点を喫しており、守備の改善が求められる。  \n",
       "4                                                                                                                                                                                                                                                         Nah  \n",
       "5                                                  清水戦では、鈴木とAロペスの前線2人で5得点を奪った札幌だが、今節の相手は11試合連続勝ちなしと相性の悪い鹿島。積極的な攻撃を展開するが、「試合巧者な鹿島」に2点リードを許し、試合を折り返す。後半開始から徐々に攻撃のリズムを取り戻し、押し込む時間帯が続くも、レアンドロに3点目を奪われてしまう。後半40分にAロペスの2試合連続ゴールで1点を返すが、反撃もここまで。今回も苦汁をなめさせられる結果となった。  \n",
       "6                                     4節での敗戦から8連敗を喫した昨季との違いを見せることに成功した名古屋。速い出足で中盤を支配するほか、パスワークの際の味方との関わり方で相手を圧倒すると、決定機をことごとく沈めて前半だけで3点を奪って折り返す。後半に入っても集中を切らさずに1点を追加する。すると、守備面でも米本を中心に札幌のカウンターをつぶすなど、光るプレーを連発。最後まで統率されたラインで相手の攻撃を抑え、ほぼ完璧な試合運びで今季三度目の完封勝利を達成した。  \n",
       "7      前からの激しいプレスと多くの味方の攻撃参加でゴールを目指す札幌と、後方からつなぎつつ、有効なスペースを突いて攻め込む大分。両者のスタイルのぶつかり合いが終始続いた一戦となった。札幌は開始早々に先手を取られると、プレスの意識をさらに強化。だが、これで裏のスペースを空けると、次第に藤本らに突かれて2点目を献上する。大分としては狙い通りの、札幌としては勢いに水を差される1点となった。後半も試合の大勢はほぼ変わらず。ホームチームは90分にわたって攻撃に圧力を見せ続けただけに、悔しい敗戦となった。  \n",
       "8                                                                                                                                                                                                                                                         Nah  \n",
       "9                        両チームともに締まったプレーを見せ、緊張感のある固い内容の試合となる。ホームのC大阪は連係でペナルティエリアへの進入を試みる札幌の攻撃に耐え、仕掛ける際には前への意識が高い片山や松田を中心に右サイドからの打開を狙う。後半に入ってもなお、一進一退の攻防が続くが、セットプレーから進藤に今季初得点を決められ、苦しい展開になる。その後は収まりの良い都倉に縦パスを入れて攻撃を仕掛け続けるも、タイムアップ。復調のけはいを見せていただけに、痛い敗戦を喫してしまった。  \n",
       "10            札幌は横浜FMの特殊なビルドアップに対し、ミスを恐れない激しいプレスと縦に速いカウンター攻撃で対抗。これが奏功して前半のうちに3点を奪い、優位にゲームを進める。後半も流れはそのままに、AロペスとLフェルナンデスの力強い突破などで何度もゴールを襲う。守備面でも、前節に続いてクリーンシートを達成し、札幌ドにがい歌を響かせた。一方、横浜FMは相手の策にはまり、早い段階で複数失点。飯倉が再三のピンチを防いだものの、思うような形で攻められず。結果も内容も振るわない厳しい一戦となった。  \n",
       "11                                                                                                                                                                                                                                                        Nah  \n",
       "12  開始早々に出はなをくじかれた磐田。その後は必死に守っても奪った後にすぐさま相手のチェックを受けて失うシーンが相次ぎ、打開策を見いだせないまま2点目を献上してしまう。しかし、ハーフタイムに2枚替えを行うと、後半はほぼ磐田の時間が続く。川又を起点にテンポよくパスが回り、ゴールに迫る場面が増加。アダイウトンが1点を返すと、終了間際には荒木や山田が決定機を作るなど、幾度も駆け付けた観客を沸かせた。それでも、1－2で終了し、3連敗。負傷から復帰した川又がケガで交代するなど、暗雲が立ち込める一戦となった。  \n",
       "13                 ホームの大声援を受ける札幌は、序盤から両サイドを起点に攻勢を強めてシュートの意識を高く持つものの、相手の体を張ったディフェンスを前に得点を奪えず、試合を折り返す。後半17分にPKで失点を喫してしまうが、6分後に進藤の2試合連続でのゴールで同点に追い付く。勢いそのままの同30分には1トップに入った鈴木がネットを揺らし、逆転に成功する。アディショナルタイムにピンチを迎えるものの、GKのクソンユンのビッグプレーが飛び出してタイムアップの笛。見事に公式戦6連勝を達成した。  \n",
       "14                                                                                                                                                                                                                                                        Nah  \n",
       "15                   松本が立ち上がりから積極的な姿勢を見せ、優位にゲームを進める。カウンターを仕掛けた時に生まれる中盤のスペースを効果的に突いて幾度か決定機を作るも、決め切れない。すると、後半は札幌の細かいパスワークに手を焼く展開に。クロスやミドルシュートを浴びながらも、空中戦に強い飯田らがはね返し続ける。前田らがカウンターを仕掛けることで辛うじて相手に食らい付くも、フィニッシュの精度を欠いて無得点。クリーンシートで終えて連敗を2でストップしたが、決定力に課題を残す結果となった。  \n",
       "16         ホームのFC東京は、序盤に訪れた決定機を生かし切れずに、スコアレスで前半を終える。迎えた後半は、立ち上がりからギアを上げて相手ゴールに襲い掛かると、後半14分に小川のJ1初ゴールで先制に成功。10分後にも、久保建が自身2戦連続となる得点を決め、試合を優位に進める。守備では素早い攻守の切り替えで相手に自由を与えず、公式戦7戦連続のクリーンシートで試合を締めくくった。対する札幌は1トップの鈴木が抑え込まれ、攻撃の起点を作れず。最後まで相手守備陣を崩し切れずに6試合ぶりの黒星を喫した。  "
      ]
     },
     "execution_count": 64,
     "metadata": {},
     "output_type": "execute_result"
    }
   ],
   "source": [
    "print(team_name_list[0])\n",
    "df_return = pd.read_csv(\"/Users/yamadaikuya/gitrepos/toto/trial/0.csv\", \n",
    "                  index_col=[0])\n",
    "df_return"
   ]
  },
  {
   "cell_type": "code",
   "execution_count": 42,
   "metadata": {},
   "outputs": [
    {
     "ename": "FileNotFoundError",
     "evalue": "File b'/Users/gitrepos/toto/trial/\\xe5\\x8c\\x97\\xe6\\xb5\\xb7\\xe9\\x81\\x93\\xe3\\x82\\xb3\\xe3\\x83\\xb3\\xe3\\x82\\xb5\\xe3\\x83\\x89\\xe3\\x83\\xbc\\xe3\\x83\\xac\\xe6\\x9c\\xad\\xe5\\xb9\\x8c.csv' does not exist",
     "output_type": "error",
     "traceback": [
      "\u001b[0;31m---------------------------------------------------------------------------\u001b[0m",
      "\u001b[0;31mFileNotFoundError\u001b[0m                         Traceback (most recent call last)",
      "\u001b[0;32m<ipython-input-42-0f68ed08a322>\u001b[0m in \u001b[0;36m<module>\u001b[0;34m\u001b[0m\n\u001b[1;32m      1\u001b[0m \u001b[0;32mfor\u001b[0m \u001b[0mi\u001b[0m \u001b[0;32min\u001b[0m \u001b[0mrange\u001b[0m\u001b[0;34m(\u001b[0m\u001b[0mlen\u001b[0m\u001b[0;34m(\u001b[0m\u001b[0mteam_name_list\u001b[0m\u001b[0;34m)\u001b[0m\u001b[0;34m)\u001b[0m\u001b[0;34m:\u001b[0m\u001b[0;34m\u001b[0m\u001b[0;34m\u001b[0m\u001b[0m\n\u001b[0;32m----> 2\u001b[0;31m     \u001b[0mshow_dataframe\u001b[0m\u001b[0;34m(\u001b[0m\u001b[0mi\u001b[0m\u001b[0;34m)\u001b[0m\u001b[0;34m\u001b[0m\u001b[0;34m\u001b[0m\u001b[0m\n\u001b[0m",
      "\u001b[0;32m<ipython-input-29-85943a2f22cb>\u001b[0m in \u001b[0;36mshow_dataframe\u001b[0;34m(i)\u001b[0m\n\u001b[1;32m      2\u001b[0m \u001b[0;32mdef\u001b[0m \u001b[0mshow_dataframe\u001b[0m\u001b[0;34m(\u001b[0m\u001b[0mi\u001b[0m\u001b[0;34m)\u001b[0m\u001b[0;34m:\u001b[0m\u001b[0;34m\u001b[0m\u001b[0;34m\u001b[0m\u001b[0m\n\u001b[1;32m      3\u001b[0m     df_return = pd.read_csv(\"/Users/gitrepos/toto/trial/\"+team_name_list[i]+\".csv\", \n\u001b[0;32m----> 4\u001b[0;31m                       index_col=[0])\n\u001b[0m\u001b[1;32m      5\u001b[0m     \u001b[0mdf_return_latest\u001b[0m \u001b[0;34m=\u001b[0m \u001b[0mdf_return\u001b[0m\u001b[0;34m[\u001b[0m\u001b[0;34m-\u001b[0m\u001b[0;36m1\u001b[0m\u001b[0;34m:\u001b[0m\u001b[0;34m]\u001b[0m \u001b[0;31m#最新のが見たいときはこっち\u001b[0m\u001b[0;34m\u001b[0m\u001b[0;34m\u001b[0m\u001b[0m\n\u001b[1;32m      6\u001b[0m     \u001b[0;32mreturn\u001b[0m\u001b[0;34m(\u001b[0m\u001b[0mdisplay\u001b[0m\u001b[0;34m(\u001b[0m\u001b[0mdf_return\u001b[0m\u001b[0;34m)\u001b[0m\u001b[0;34m)\u001b[0m\u001b[0;34m\u001b[0m\u001b[0;34m\u001b[0m\u001b[0m\n",
      "\u001b[0;32m/usr/local/var/pyenv/versions/anaconda3-5.0.0/lib/python3.6/site-packages/pandas/io/parsers.py\u001b[0m in \u001b[0;36mparser_f\u001b[0;34m(filepath_or_buffer, sep, delimiter, header, names, index_col, usecols, squeeze, prefix, mangle_dupe_cols, dtype, engine, converters, true_values, false_values, skipinitialspace, skiprows, nrows, na_values, keep_default_na, na_filter, verbose, skip_blank_lines, parse_dates, infer_datetime_format, keep_date_col, date_parser, dayfirst, iterator, chunksize, compression, thousands, decimal, lineterminator, quotechar, quoting, escapechar, comment, encoding, dialect, tupleize_cols, error_bad_lines, warn_bad_lines, skipfooter, doublequote, delim_whitespace, low_memory, memory_map, float_precision)\u001b[0m\n\u001b[1;32m    676\u001b[0m                     skip_blank_lines=skip_blank_lines)\n\u001b[1;32m    677\u001b[0m \u001b[0;34m\u001b[0m\u001b[0m\n\u001b[0;32m--> 678\u001b[0;31m         \u001b[0;32mreturn\u001b[0m \u001b[0m_read\u001b[0m\u001b[0;34m(\u001b[0m\u001b[0mfilepath_or_buffer\u001b[0m\u001b[0;34m,\u001b[0m \u001b[0mkwds\u001b[0m\u001b[0;34m)\u001b[0m\u001b[0;34m\u001b[0m\u001b[0;34m\u001b[0m\u001b[0m\n\u001b[0m\u001b[1;32m    679\u001b[0m \u001b[0;34m\u001b[0m\u001b[0m\n\u001b[1;32m    680\u001b[0m     \u001b[0mparser_f\u001b[0m\u001b[0;34m.\u001b[0m\u001b[0m__name__\u001b[0m \u001b[0;34m=\u001b[0m \u001b[0mname\u001b[0m\u001b[0;34m\u001b[0m\u001b[0;34m\u001b[0m\u001b[0m\n",
      "\u001b[0;32m/usr/local/var/pyenv/versions/anaconda3-5.0.0/lib/python3.6/site-packages/pandas/io/parsers.py\u001b[0m in \u001b[0;36m_read\u001b[0;34m(filepath_or_buffer, kwds)\u001b[0m\n\u001b[1;32m    438\u001b[0m \u001b[0;34m\u001b[0m\u001b[0m\n\u001b[1;32m    439\u001b[0m     \u001b[0;31m# Create the parser.\u001b[0m\u001b[0;34m\u001b[0m\u001b[0;34m\u001b[0m\u001b[0;34m\u001b[0m\u001b[0m\n\u001b[0;32m--> 440\u001b[0;31m     \u001b[0mparser\u001b[0m \u001b[0;34m=\u001b[0m \u001b[0mTextFileReader\u001b[0m\u001b[0;34m(\u001b[0m\u001b[0mfilepath_or_buffer\u001b[0m\u001b[0;34m,\u001b[0m \u001b[0;34m**\u001b[0m\u001b[0mkwds\u001b[0m\u001b[0;34m)\u001b[0m\u001b[0;34m\u001b[0m\u001b[0;34m\u001b[0m\u001b[0m\n\u001b[0m\u001b[1;32m    441\u001b[0m \u001b[0;34m\u001b[0m\u001b[0m\n\u001b[1;32m    442\u001b[0m     \u001b[0;32mif\u001b[0m \u001b[0mchunksize\u001b[0m \u001b[0;32mor\u001b[0m \u001b[0miterator\u001b[0m\u001b[0;34m:\u001b[0m\u001b[0;34m\u001b[0m\u001b[0;34m\u001b[0m\u001b[0m\n",
      "\u001b[0;32m/usr/local/var/pyenv/versions/anaconda3-5.0.0/lib/python3.6/site-packages/pandas/io/parsers.py\u001b[0m in \u001b[0;36m__init__\u001b[0;34m(self, f, engine, **kwds)\u001b[0m\n\u001b[1;32m    785\u001b[0m             \u001b[0mself\u001b[0m\u001b[0;34m.\u001b[0m\u001b[0moptions\u001b[0m\u001b[0;34m[\u001b[0m\u001b[0;34m'has_index_names'\u001b[0m\u001b[0;34m]\u001b[0m \u001b[0;34m=\u001b[0m \u001b[0mkwds\u001b[0m\u001b[0;34m[\u001b[0m\u001b[0;34m'has_index_names'\u001b[0m\u001b[0;34m]\u001b[0m\u001b[0;34m\u001b[0m\u001b[0;34m\u001b[0m\u001b[0m\n\u001b[1;32m    786\u001b[0m \u001b[0;34m\u001b[0m\u001b[0m\n\u001b[0;32m--> 787\u001b[0;31m         \u001b[0mself\u001b[0m\u001b[0;34m.\u001b[0m\u001b[0m_make_engine\u001b[0m\u001b[0;34m(\u001b[0m\u001b[0mself\u001b[0m\u001b[0;34m.\u001b[0m\u001b[0mengine\u001b[0m\u001b[0;34m)\u001b[0m\u001b[0;34m\u001b[0m\u001b[0;34m\u001b[0m\u001b[0m\n\u001b[0m\u001b[1;32m    788\u001b[0m \u001b[0;34m\u001b[0m\u001b[0m\n\u001b[1;32m    789\u001b[0m     \u001b[0;32mdef\u001b[0m \u001b[0mclose\u001b[0m\u001b[0;34m(\u001b[0m\u001b[0mself\u001b[0m\u001b[0;34m)\u001b[0m\u001b[0;34m:\u001b[0m\u001b[0;34m\u001b[0m\u001b[0;34m\u001b[0m\u001b[0m\n",
      "\u001b[0;32m/usr/local/var/pyenv/versions/anaconda3-5.0.0/lib/python3.6/site-packages/pandas/io/parsers.py\u001b[0m in \u001b[0;36m_make_engine\u001b[0;34m(self, engine)\u001b[0m\n\u001b[1;32m   1012\u001b[0m     \u001b[0;32mdef\u001b[0m \u001b[0m_make_engine\u001b[0m\u001b[0;34m(\u001b[0m\u001b[0mself\u001b[0m\u001b[0;34m,\u001b[0m \u001b[0mengine\u001b[0m\u001b[0;34m=\u001b[0m\u001b[0;34m'c'\u001b[0m\u001b[0;34m)\u001b[0m\u001b[0;34m:\u001b[0m\u001b[0;34m\u001b[0m\u001b[0;34m\u001b[0m\u001b[0m\n\u001b[1;32m   1013\u001b[0m         \u001b[0;32mif\u001b[0m \u001b[0mengine\u001b[0m \u001b[0;34m==\u001b[0m \u001b[0;34m'c'\u001b[0m\u001b[0;34m:\u001b[0m\u001b[0;34m\u001b[0m\u001b[0;34m\u001b[0m\u001b[0m\n\u001b[0;32m-> 1014\u001b[0;31m             \u001b[0mself\u001b[0m\u001b[0;34m.\u001b[0m\u001b[0m_engine\u001b[0m \u001b[0;34m=\u001b[0m \u001b[0mCParserWrapper\u001b[0m\u001b[0;34m(\u001b[0m\u001b[0mself\u001b[0m\u001b[0;34m.\u001b[0m\u001b[0mf\u001b[0m\u001b[0;34m,\u001b[0m \u001b[0;34m**\u001b[0m\u001b[0mself\u001b[0m\u001b[0;34m.\u001b[0m\u001b[0moptions\u001b[0m\u001b[0;34m)\u001b[0m\u001b[0;34m\u001b[0m\u001b[0;34m\u001b[0m\u001b[0m\n\u001b[0m\u001b[1;32m   1015\u001b[0m         \u001b[0;32melse\u001b[0m\u001b[0;34m:\u001b[0m\u001b[0;34m\u001b[0m\u001b[0;34m\u001b[0m\u001b[0m\n\u001b[1;32m   1016\u001b[0m             \u001b[0;32mif\u001b[0m \u001b[0mengine\u001b[0m \u001b[0;34m==\u001b[0m \u001b[0;34m'python'\u001b[0m\u001b[0;34m:\u001b[0m\u001b[0;34m\u001b[0m\u001b[0;34m\u001b[0m\u001b[0m\n",
      "\u001b[0;32m/usr/local/var/pyenv/versions/anaconda3-5.0.0/lib/python3.6/site-packages/pandas/io/parsers.py\u001b[0m in \u001b[0;36m__init__\u001b[0;34m(self, src, **kwds)\u001b[0m\n\u001b[1;32m   1706\u001b[0m         \u001b[0mkwds\u001b[0m\u001b[0;34m[\u001b[0m\u001b[0;34m'usecols'\u001b[0m\u001b[0;34m]\u001b[0m \u001b[0;34m=\u001b[0m \u001b[0mself\u001b[0m\u001b[0;34m.\u001b[0m\u001b[0musecols\u001b[0m\u001b[0;34m\u001b[0m\u001b[0;34m\u001b[0m\u001b[0m\n\u001b[1;32m   1707\u001b[0m \u001b[0;34m\u001b[0m\u001b[0m\n\u001b[0;32m-> 1708\u001b[0;31m         \u001b[0mself\u001b[0m\u001b[0;34m.\u001b[0m\u001b[0m_reader\u001b[0m \u001b[0;34m=\u001b[0m \u001b[0mparsers\u001b[0m\u001b[0;34m.\u001b[0m\u001b[0mTextReader\u001b[0m\u001b[0;34m(\u001b[0m\u001b[0msrc\u001b[0m\u001b[0;34m,\u001b[0m \u001b[0;34m**\u001b[0m\u001b[0mkwds\u001b[0m\u001b[0;34m)\u001b[0m\u001b[0;34m\u001b[0m\u001b[0;34m\u001b[0m\u001b[0m\n\u001b[0m\u001b[1;32m   1709\u001b[0m \u001b[0;34m\u001b[0m\u001b[0m\n\u001b[1;32m   1710\u001b[0m         \u001b[0mpassed_names\u001b[0m \u001b[0;34m=\u001b[0m \u001b[0mself\u001b[0m\u001b[0;34m.\u001b[0m\u001b[0mnames\u001b[0m \u001b[0;32mis\u001b[0m \u001b[0;32mNone\u001b[0m\u001b[0;34m\u001b[0m\u001b[0;34m\u001b[0m\u001b[0m\n",
      "\u001b[0;32mpandas/_libs/parsers.pyx\u001b[0m in \u001b[0;36mpandas._libs.parsers.TextReader.__cinit__\u001b[0;34m()\u001b[0m\n",
      "\u001b[0;32mpandas/_libs/parsers.pyx\u001b[0m in \u001b[0;36mpandas._libs.parsers.TextReader._setup_parser_source\u001b[0;34m()\u001b[0m\n",
      "\u001b[0;31mFileNotFoundError\u001b[0m: File b'/Users/gitrepos/toto/trial/\\xe5\\x8c\\x97\\xe6\\xb5\\xb7\\xe9\\x81\\x93\\xe3\\x82\\xb3\\xe3\\x83\\xb3\\xe3\\x82\\xb5\\xe3\\x83\\x89\\xe3\\x83\\xbc\\xe3\\x83\\xac\\xe6\\x9c\\xad\\xe5\\xb9\\x8c.csv' does not exist"
     ]
    }
   ],
   "source": [
    "for i in range(len(team_name_list)):\n",
    "    show_dataframe(i)"
   ]
  }
 ],
 "metadata": {
  "kernelspec": {
   "display_name": "Python 3",
   "language": "python",
   "name": "python3"
  },
  "language_info": {
   "codemirror_mode": {
    "name": "ipython",
    "version": 3
   },
   "file_extension": ".py",
   "mimetype": "text/x-python",
   "name": "python",
   "nbconvert_exporter": "python",
   "pygments_lexer": "ipython3",
   "version": "3.6.8"
  }
 },
 "nbformat": 4,
 "nbformat_minor": 2
}
